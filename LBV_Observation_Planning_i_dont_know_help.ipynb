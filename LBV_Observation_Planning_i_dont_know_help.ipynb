{
 "cells": [
  {
   "cell_type": "code",
   "execution_count": 92,
   "metadata": {},
   "outputs": [],
   "source": [
    "%matplotlib inline\n",
    "\n",
    "import numpy as np\n",
    "import pandas as pd\n",
    "import matplotlib.pylab as plt\n",
    "\n",
    "import astropy.io.fits as fits\n",
    "import astropy.units as u\n",
    "from astropy.time import Time\n",
    "from astropy.coordinates import SkyCoord\n",
    "from astropy.coordinates import get_sun, get_body, get_moon\n",
    "\n",
    "import pytz\n",
    "\n",
    "from astroplan import Observer, FixedTarget, time_grid_from_range, observability_table, moon_illumination\n",
    "from astroplan import AirmassConstraint, MoonSeparationConstraint"
   ]
  },
  {
   "cell_type": "code",
   "execution_count": 93,
   "metadata": {},
   "outputs": [
    {
     "data": {
      "text/plain": [
       "<Observer: name='apo',\n",
       "    location (lon, lat, el)=(-105.82000000000002 deg, 32.78000000000001 deg, 2797.9999999996007 m),\n",
       "    timezone=<UTC>>"
      ]
     },
     "execution_count": 93,
     "metadata": {},
     "output_type": "execute_result"
    }
   ],
   "source": [
    "apo = Observer.at_site('apo')\n",
    "\n",
    "apo"
   ]
  },
  {
   "cell_type": "code",
   "execution_count": 94,
   "metadata": {},
   "outputs": [],
   "source": [
    "reference_time = Time('2018-5-30')"
   ]
  },
  {
   "cell_type": "code",
   "execution_count": 95,
   "metadata": {},
   "outputs": [],
   "source": [
    "tz_1 = pytz.timezone(\"America/Denver\")"
   ]
  },
  {
   "cell_type": "code",
   "execution_count": 96,
   "metadata": {},
   "outputs": [],
   "source": [
    "constraints = [MoonSeparationConstraint(60*u.deg)]\n",
    "constraints.append(AirmassConstraint(2))"
   ]
  },
  {
   "cell_type": "code",
   "execution_count": 97,
   "metadata": {},
   "outputs": [
    {
     "name": "stdout",
     "output_type": "stream",
     "text": [
      "Astronomical Evening Twilight starts at 2018-05-30 03:43:43.501 UTC\n",
      "Astronomical Morning Twilight starts at 2018-05-30 10:17:38.856 UTC\n",
      "You can observe for 6.6 h during the observing window.\n"
     ]
    }
   ],
   "source": [
    "astro_set1 = apo.twilight_evening_astronomical(reference_time, which='nearest')\n",
    "astro_rise1 = apo.twilight_morning_astronomical(reference_time, which='next')\n",
    "observing_length1 = (astro_rise1 - astro_set1).to(u.h)\n",
    "\n",
    "print(\"Astronomical Evening Twilight starts at {0.iso} UTC\".format(astro_set1))\n",
    "print(\"Astronomical Morning Twilight starts at {0.iso} UTC\".format(astro_rise1))\n",
    "print(\"You can observe for {0:.1f} during the observing window.\".format(observing_length1))"
   ]
  },
  {
   "cell_type": "code",
   "execution_count": 98,
   "metadata": {},
   "outputs": [
    {
     "data": {
      "text/latex": [
       "$0.10700869 \\; \\mathrm{rad}$"
      ],
      "text/plain": [
       "<Quantity 0.10700869 rad>"
      ]
     },
     "execution_count": 98,
     "metadata": {},
     "output_type": "execute_result"
    }
   ],
   "source": [
    "apo.moon_phase(reference_time)"
   ]
  },
  {
   "cell_type": "markdown",
   "metadata": {},
   "source": [
    "### ugh..."
   ]
  },
  {
   "cell_type": "code",
   "execution_count": 99,
   "metadata": {},
   "outputs": [
    {
     "name": "stdout",
     "output_type": "stream",
     "text": [
      "The moon rise/set times in May at APO are 2018-05-29 20:21:22.198 and 2018-05-30 06:50:41.961, respectively.\n",
      "This means it'll be up for 10.5 h, i.e. all damn night.\n"
     ]
    }
   ],
   "source": [
    "moonrise = apo.moon_rise_time(reference_time,which='nearest')\n",
    "moonset = apo.moon_set_time(reference_time,which='next')\n",
    "lunar_day = (moonset - moonrise).to(u.h)\n",
    "\n",
    "print(\"The moon rise/set times in May at APO are {0.iso} and {1.iso}, respectively.\"\n",
    "      .format(moonrise-6*u.hr, moonset-6*u.hr))\n",
    "print(\"This means it'll be up for {0:.1f}, i.e. all damn night.\".format(lunar_day))"
   ]
  },
  {
   "cell_type": "code",
   "execution_count": 100,
   "metadata": {},
   "outputs": [
    {
     "data": {
      "text/plain": [
       "0.9971400155236192"
      ]
     },
     "execution_count": 100,
     "metadata": {},
     "output_type": "execute_result"
    }
   ],
   "source": [
    "apo.moon_illumination(reference_time) # lol"
   ]
  },
  {
   "cell_type": "code",
   "execution_count": 101,
   "metadata": {},
   "outputs": [],
   "source": [
    "# so that sucks"
   ]
  },
  {
   "cell_type": "code",
   "execution_count": 102,
   "metadata": {},
   "outputs": [],
   "source": [
    "observation_end = apo.midnight(reference_time)"
   ]
  },
  {
   "cell_type": "code",
   "execution_count": 103,
   "metadata": {},
   "outputs": [],
   "source": [
    "obs_range = [astro_set1, observation_end]"
   ]
  },
  {
   "cell_type": "code",
   "execution_count": 104,
   "metadata": {},
   "outputs": [
    {
     "data": {
      "text/plain": [
       "array([['GRS 79.29+0.46', '|', '20 31 42.28', '|', '+40 21 59.13'],\n",
       "       ['Pistol Star', '|', '17 46 15.24', '|', '-28 50 03.58'],\n",
       "       ['HD 168625', '|', '18 21 19.55', '|', '-16 22 26.06'],\n",
       "       ['zet01 Sco', '|', '16 53 59.73', '|', '-42 21 43.31'],\n",
       "       ['HD 326823', '|', '17 06 53.91', '|', '-42 36 39.74'],\n",
       "       ['HD 316285', '|', '17 48 14.04', '|', '-28 00 53.13'],\n",
       "       ['Hen 3-519', '|', '10 53 59.59', '|', '-60 26 44.31'],\n",
       "       ['HD 80077', '|', '09 15 54.79', '|', '-49 58 24.58'],\n",
       "       ['AS 314', '|', '18 39 26.11', '|', '-13 50 47.19'],\n",
       "       ['MWC 314', '|', '19 21 33.97', '|', '+14 52 56.89'],\n",
       "       ['GRS 25.5+0.2', '|', '18 37 05.21', '|', '-06 29 38.0'],\n",
       "       ['GAL 026.47+00.02', '|', '18 39 32.24', '|', '-05 44 20.5'],\n",
       "       ['WRAY 17-96', '|', '17 41 35.45', '|', '-30 06 38.8'],\n",
       "       ['WR102ka', '|', '17 46 18.12', '|', '-29 01 36.6'],\n",
       "       ['NAME lBV 1806-20', '|', '18 08 40.31', '|', '-20 24 41.1'],\n",
       "       ['NAME Sher 25 star', '|', '11 15 07.8', '|', '-61 15 17'],\n",
       "       ['[OMN2000] LS1', '|', '19 23 47.64', '|', '+14 36 38.4'],\n",
       "       ['GCIRS 16NE', '|', '17 45 40.26', '|', '-29 00 27.09'],\n",
       "       ['GCIRS 16C', '|', '17 45 40.13', '|', '-29 00 27.64'],\n",
       "       ['GCIRS 16SW', '|', '17 45 40.12', '|', '-29 00 29.06'],\n",
       "       ['GCIRS 16NW', '|', '17 45 40.05', '|', '-29 00 26.87'],\n",
       "       ['GCIRS 33SE', '|', '17 45 40.02', '|', '-29 00 31.0'],\n",
       "       ['2MASS J15484207-5507422', '|', '15 48 42.07', '|',\n",
       "        '-55 07 42.21'],\n",
       "       ['2MASS J16290377-4746264', '|', '16 29 03.78', '|',\n",
       "        '-47 46 26.48'],\n",
       "       ['2MASS J16364278-4656207', '|', '16 36 42.78', '|',\n",
       "        '-46 56 20.73'],\n",
       "       ['2MASS J17082913-3925076', '|', '17 08 29.14', '|',\n",
       "        '-39 25 07.68'],\n",
       "       ['2MASS J17110094-3945174', '|', '17 11 00.94', '|',\n",
       "        '-39 45 17.45'],\n",
       "       ['2MASS J18415965-0515409', '|', '18 41 59.65', '|',\n",
       "        '-05 15 40.93'],\n",
       "       ['2MASS J16431636-4600424', '|', '16 43 16.37', '|',\n",
       "        '-46 00 42.42'],\n",
       "       ['2MASS J16493770-4535592', '|', '16 49 37.70', '|',\n",
       "        '-45 35 59.27'],\n",
       "       ['2MASS J17435981-3028384', '|', '17 43 59.85', '|',\n",
       "        '-30 28 38.5'],\n",
       "       ['2MASS J18133121-1856431', '|', '18 13 31.21', '|',\n",
       "        '-18 56 43.20'],\n",
       "       ['2MASS J19325284+1742303', '|', '19 32 52.85', '|',\n",
       "        '+17 42 30.33'],\n",
       "       ['2MASS J19443759+2419058c', '|', '19 44 37.60', '|',\n",
       "        '+24 19 05.87'],\n",
       "       ['2MASS J16313781-4814553', '|', '16 31 37.82', '|',\n",
       "        '-48 14 55.30'],\n",
       "       ['2MASS J16461734-4508478', '|', '16 46 17.35', '|',\n",
       "        '-45 08 47.85'],\n",
       "       ['2MASS J17374754-3137333d', '|', '17 37 47.54', '|',\n",
       "        '-31 37 33.38'],\n",
       "       ['2MASS J17374730-3137370d', '|', '17 37 47.31', '|',\n",
       "        '-31 37 37.07'],\n",
       "       ['2MASS J17421401-2955360', '|', '17 42 14.02', '|',\n",
       "        '-29 55 36.06'],\n",
       "       ['2MASS J18022233-2238002', '|', '18 02 22.34', '|',\n",
       "        '-22 38 00.24'],\n",
       "       ['2MASS J18455593-0308297', '|', '18 45 55.94', '|',\n",
       "        '-03 08 29.72'],\n",
       "       ['2MASS J18510295-0058242', '|', '18 51 02.95', '|',\n",
       "        '-00 58 24.21'],\n",
       "       ['2MASS J18070516-2015163', '|', '18 07 05.17', '|',\n",
       "        '-20 15 16.31'],\n",
       "       ['2MASS J19011669+0355108', '|', '19 01 16.69', '|',\n",
       "        '+03 55 10.81'],\n",
       "       ['MN13', '|', '13 42 33.08', '|', '-62 48 11.3'],\n",
       "       ['MN39', '|', '16 10 26.55', '|', '-51 21 25.3'],\n",
       "       ['MN41', '|', '16 26 34.28', '|', '-50 21 01.9'],\n",
       "       ['MN53', '|', '17 09 24.78', '|', '-40 08 45.6'],\n",
       "       ['MN79', '|', '18 28 33.41', '|', '-11 46 44.2'],\n",
       "       ['MN101', '|', '19 06 24.54', '|', '+08 22 01.6'],\n",
       "       ['MN107', '|', '19 24 03.34', '|', '+13 39 49.4'],\n",
       "       ['MN46', '|', '16 43 16.37', '|', '-46 00 42.4'],\n",
       "       ['MN83', '|', '18 39 23.01', '|', '-05 53 19.9'],\n",
       "       ['eta Car', '|', '10 45 3.59', '|', '-59 41 04.26'],\n",
       "       ['P Cyg', '|', '20 17 47.2', '|', '+38 01 58.55'],\n",
       "       ['HD 168607', '|', '18 21 14.89', '|', '-16 22 31.76'],\n",
       "       ['AG Car', '|', '10 56 11.58', '|', '-60 27 12.81'],\n",
       "       ['HR Car', '|', '10 22 53.84', '|', '-59 37 28.38'],\n",
       "       ['HD 160529', '|', '17 41 59.03', '|', '-33 30 13.71'],\n",
       "       ['WRAY 15-751', '|', '11 08 40.06', '|', '-60 42 51.7'],\n",
       "       ['qF 362', '|', '17 46 17.98', '|', '-28 49 03.46'],\n",
       "       ['AFGL 2298', '|', '19 00 10.89', '|', '+03 45 47.1'],\n",
       "       ['GAL 024.73+00.69', '|', '18 33 55.29', '|', '-06 58 38.7'],\n",
       "       ['Cl* Westerlund 1 W 243', '|', '16 47 07.50', '|',\n",
       "        '-45 52 29.16'],\n",
       "       ['GCIRS 34W', '|', '17 45 39.73', '|', '-29 00 26.5']],\n",
       "      dtype=object)"
      ]
     },
     "execution_count": 104,
     "metadata": {},
     "output_type": "execute_result"
    }
   ],
   "source": [
    "target_list = pd.read_csv('./observation_files/LBVs:Candidates.txt', sep = \"\\t|\\t\", engine = 'python')\n",
    "target_table = target_list.as_matrix()\n",
    "target_table"
   ]
  },
  {
   "cell_type": "code",
   "execution_count": 105,
   "metadata": {},
   "outputs": [],
   "source": [
    "target_stuff = [['VI Cyg 12', 20.5447, 41.2415],\n",
    "['GRS 79.29+0.46', 20.5284, 40.366425], ['MWC 314', 19.359436, 14.88246944],\n",
    "['[OMN2000] LS1', 19.3966, 14.6107],\n",
    "['2MASS J19325284+1742303', 19.548014, 17.708425], ['2MASS J19443759+2419058c', 19.74378, 24.3182972],\n",
    "['2MASS J19011669+0355108', 19.021303, 3.91967], ['MN101', 19.10682, 8.3671],\n",
    "['MN107', 19.40093, 13.66372],\n",
    "['P Cyg', 20.29644, 38.0329306],\n",
    "['AFGL 2298', 19.003025, 3.763083]]"
   ]
  },
  {
   "cell_type": "code",
   "execution_count": 106,
   "metadata": {},
   "outputs": [],
   "source": [
    "targets = [FixedTarget(coord=SkyCoord(ra = RA*u.hourangle, dec = DEC*u.deg), name=Name)\n",
    "           for Name, RA, DEC in target_stuff]"
   ]
  },
  {
   "cell_type": "code",
   "execution_count": 107,
   "metadata": {},
   "outputs": [
    {
     "name": "stdout",
     "output_type": "stream",
     "text": [
      "      target name        ever observable ... fraction of time observable\n",
      "------------------------ --------------- ... ---------------------------\n",
      "               VI Cyg 12            True ...          0.2857142857142857\n",
      "          GRS 79.29+0.46            True ...          0.2857142857142857\n",
      "                 MWC 314           False ...                         0.0\n",
      "           [OMN2000] LS1           False ...                         0.0\n",
      " 2MASS J19325284+1742303           False ...                         0.0\n",
      "2MASS J19443759+2419058c           False ...                         0.0\n",
      " 2MASS J19011669+0355108           False ...                         0.0\n",
      "                   MN101           False ...                         0.0\n",
      "                   MN107           False ...                         0.0\n",
      "                   P Cyg            True ...          0.2857142857142857\n",
      "               AFGL 2298           False ...                         0.0\n"
     ]
    }
   ],
   "source": [
    "observing_table = observability_table(constraints, apo, targets, time_range=obs_range)\n",
    "\n",
    "print(observing_table)"
   ]
  },
  {
   "cell_type": "code",
   "execution_count": 108,
   "metadata": {},
   "outputs": [
    {
     "name": "stdout",
     "output_type": "stream",
     "text": [
      "You can observe VI Cyg 12 for 1.88 h\n",
      "You can observe GRS 79.29+0.46 for 1.88 h\n",
      "You can observe P Cyg for 1.88 h\n"
     ]
    }
   ],
   "source": [
    "for i, target_table in enumerate(targets):\n",
    "\n",
    "    if observing_table['ever observable'][i]:\n",
    "        name = observing_table['target name'][i]\n",
    "        obj_frac = observing_table['fraction of time observable'][i]\n",
    "        obj_time = obj_frac * observing_length1\n",
    "        output = \"You can observe {0:s} for {1:.2f}\".format(name, obj_time.to(u.h))\n",
    "        print(output)"
   ]
  },
  {
   "cell_type": "code",
   "execution_count": null,
   "metadata": {},
   "outputs": [],
   "source": []
  }
 ],
 "metadata": {
  "kernelspec": {
   "display_name": "Python 3",
   "language": "python",
   "name": "python3"
  },
  "language_info": {
   "codemirror_mode": {
    "name": "ipython",
    "version": 3
   },
   "file_extension": ".py",
   "mimetype": "text/x-python",
   "name": "python",
   "nbconvert_exporter": "python",
   "pygments_lexer": "ipython3",
   "version": "3.6.4"
  }
 },
 "nbformat": 4,
 "nbformat_minor": 2
}
