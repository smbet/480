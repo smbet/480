{
 "cells": [
  {
   "cell_type": "markdown",
   "metadata": {},
   "source": [
    "# Detector Gain\n",
    "\n",
    "You could calculate the mean of each flat image manually using IRAF. Alternatively, you could calculate the means for all of the images automatically using Python."
   ]
  },
  {
   "cell_type": "code",
   "execution_count": 1,
   "metadata": {
    "collapsed": true
   },
   "outputs": [],
   "source": [
    "from astropy.io import fits\n",
    "import numpy as np\n",
    "import matplotlib.pyplot as plt\n",
    "# glob serves some of the same functions as ls in the terminal\n",
    "import glob"
   ]
  },
  {
   "cell_type": "markdown",
   "metadata": {},
   "source": [
    "## FITS Headers\n",
    "The headers of the FITS files contain the exposure times of the flat images. Now we use `fits.open` instead of `fits.getdata`. HDU stands for Header/Data Unit."
   ]
  },
  {
   "cell_type": "code",
   "execution_count": 2,
   "metadata": {
    "collapsed": false
   },
   "outputs": [
    {
     "name": "stdout",
     "output_type": "stream",
     "text": [
      "15.0\n"
     ]
    }
   ],
   "source": [
    "hdu = fits.open('data/Flat.15S0X1.V.14.fits')\n",
    "header = hdu[0].header\n",
    "print(header['exptime'])"
   ]
  },
  {
   "cell_type": "markdown",
   "metadata": {},
   "source": [
    "## Calculating Mean Counts\n",
    "We can find all of the flat images, assuming they all have 'Flat' in the name.\n",
    "#### You will need to change the path to the directory containing your data."
   ]
  },
  {
   "cell_type": "code",
   "execution_count": 3,
   "metadata": {
    "collapsed": false
   },
   "outputs": [
    {
     "name": "stdout",
     "output_type": "stream",
     "text": [
      "['data/Flat.0S0X1.V.19.fits', 'data/Flat.10S0X1.V.15.fits', 'data/Flat.15S0X1.V.14.fits', 'data/Flat.1S0X1.V.18.fits', 'data/Flat.20S0X1.V.13.fits', 'data/Flat.25S0X1.V.12.fits', 'data/Flat.2S0X1.V.17.fits', 'data/Flat.30S0X1.V.11.fits', 'data/Flat.40S0X1.V.10.fits', 'data/Flat.50S0X1.V.09.fits', 'data/Flat.5S0X1.V.16.fits', 'data/Flat.60S0X1.V.08.fits', 'data/Flat.70S0X1.V.07.fits', 'data/Flat.80S0X1.V.06.fits']\n"
     ]
    }
   ],
   "source": [
    "# This is equivalent to $ ls Flat*.fits\n",
    "flat_list = glob.glob('data/Flat*.fits')\n",
    "print(flat_list)"
   ]
  },
  {
   "cell_type": "markdown",
   "metadata": {},
   "source": [
    "Now we can loop through each flat image, and keep track of the exposure time and mean counts"
   ]
  },
  {
   "cell_type": "code",
   "execution_count": 4,
   "metadata": {
    "collapsed": false
   },
   "outputs": [
    {
     "name": "stdout",
     "output_type": "stream",
     "text": [
      "Exposure time 0.5 sec\n",
      "Mean counts: 1932.36\n",
      "\n",
      "Exposure time 10.0 sec\n",
      "Mean counts: 19040.18\n",
      "\n",
      "Exposure time 15.0 sec\n",
      "Mean counts: 28051.22\n",
      "\n",
      "Exposure time 1.0 sec\n",
      "Mean counts: 2843.24\n",
      "\n",
      "Exposure time 20.0 sec\n",
      "Mean counts: 36939.74\n",
      "\n",
      "Exposure time 25.0 sec\n",
      "Mean counts: 45578.52\n",
      "\n",
      "Exposure time 2.0 sec\n",
      "Mean counts: 4655.94\n",
      "\n",
      "Exposure time 30.0 sec\n",
      "Mean counts: 52558.64\n",
      "\n",
      "Exposure time 40.0 sec\n",
      "Mean counts: 57670.04\n",
      "\n",
      "Exposure time 50.0 sec\n",
      "Mean counts: 57950.41\n",
      "\n",
      "Exposure time 5.0 sec\n",
      "Mean counts: 10098.66\n",
      "\n",
      "Exposure time 60.0 sec\n",
      "Mean counts: 57976.67\n",
      "\n",
      "Exposure time 70.0 sec\n",
      "Mean counts: 58006.20\n",
      "\n",
      "Exposure time 80.0 sec\n",
      "Mean counts: 58029.92\n",
      "\n"
     ]
    }
   ],
   "source": [
    "# These are empty lists (arrays) to store the exposure times and mean counts\n",
    "exp_times = []\n",
    "means = []\n",
    "\n",
    "for filename in flat_list:\n",
    "    # Open the FITS file\n",
    "    hdu = fits.open(filename)\n",
    "    \n",
    "    exptime = hdu[0].header['exptime']\n",
    "    print('Exposure time {} sec'.format(exptime))\n",
    "    \n",
    "    # This will append the exposure time for each image to the array\n",
    "    exp_times.append(exptime)\n",
    "    \n",
    "    # Same for mean counts\n",
    "    mean_counts = np.mean(hdu[0].data)\n",
    "    print('Mean counts: {:.2f}\\n'.format(mean_counts))\n",
    "    means.append(mean_counts)\n",
    "\n",
    "# Convert to Numpy arrays so they can be sorted\n",
    "exp_times = np.array(exp_times)\n",
    "means = np.array(means)\n",
    "\n",
    "# Sort by exposure time so the plot looks correct\n",
    "time_sort = np.argsort(exp_times)\n",
    "exp_times = exp_times[time_sort]\n",
    "means = means[time_sort]"
   ]
  },
  {
   "cell_type": "markdown",
   "metadata": {},
   "source": [
    "## Plot mean counts versus exposure time\n"
   ]
  },
  {
   "cell_type": "code",
   "execution_count": 5,
   "metadata": {
    "collapsed": false
   },
   "outputs": [
    {
     "data": {
      "image/png": "[encoded data removed]",
      "text/plain": [
       "<matplotlib.figure.Figure at 0x1048e54a8>"
      ]
     },
     "metadata": {},
     "output_type": "display_data"
    }
   ],
   "source": [
    "plt.figure(figsize=(10, 8))\n",
    "plt.rcParams['font.size'] = 16\n",
    "\n",
    "plt.plot(exp_times, means, '-ko')\n",
    "plt.xlabel('Exposure Time (sec)')\n",
    "plt.ylabel('Mean counts')\n",
    "plt.show()"
   ]
  }
 ],
 "metadata": {
  "anaconda-cloud": {},
  "kernelspec": {
   "display_name": "Python [conda root]",
   "language": "python",
   "name": "conda-root-py"
  },
  "language_info": {
   "codemirror_mode": {
    "name": "ipython",
    "version": 3
   },
   "file_extension": ".py",
   "mimetype": "text/x-python",
   "name": "python",
   "nbconvert_exporter": "python",
   "pygments_lexer": "ipython3",
   "version": "3.5.2"
  }
 },
 "nbformat": 4,
 "nbformat_minor": 1
}
