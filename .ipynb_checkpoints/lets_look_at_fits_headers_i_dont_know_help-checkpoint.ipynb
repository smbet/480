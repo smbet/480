{
 "cells": [
  {
   "cell_type": "code",
   "execution_count": 39,
   "metadata": {},
   "outputs": [],
   "source": [
    "%matplotlib inline\n",
    "import matplotlib.pylab as plt\n",
    "\n",
    "import astropy.io.fits as fits"
   ]
  },
  {
   "cell_type": "code",
   "execution_count": 40,
   "metadata": {},
   "outputs": [],
   "source": [
    "# note that this does assume the fits file is in your current working directory\n",
    "\n",
    "fitsfile = './fits/hcg79_m.0001.fits'"
   ]
  },
  {
   "cell_type": "code",
   "execution_count": 41,
   "metadata": {},
   "outputs": [],
   "source": [
    "galaxy = fits.open(fitsfile)"
   ]
  },
  {
   "cell_type": "code",
   "execution_count": 42,
   "metadata": {},
   "outputs": [
    {
     "data": {
      "text/plain": [
       "SIMPLE  =                    T / file does conform to FITS standard             \n",
       "BITPIX  =                   16 / number of bits per data pixel                  \n",
       "NAXIS   =                    2 / number of data axes                            \n",
       "NAXIS1  =                 2102 / length of data axis 1                          \n",
       "NAXIS2  =                 2050 / length of data axis 2                          \n",
       "EXTEND  =                    T / FITS dataset may contain extensions            \n",
       "OBSERVAT= 'APO'                / Per the IRAF observatory list.                 \n",
       "TELESCOP= '3.5m'                                                                \n",
       "INSTRUME= 'arctic'             / Instrument name                                \n",
       "LATITUDE= +3.2780361000000E+01 / Latitude of telescope base                     \n",
       "LONGITUD= -1.0582041700000E+02 / Longitude of telescope base                    \n",
       "TIMESYS = 'TAI'                / Time system for DATE-OBS                       \n",
       "UTC-TAI = -37.0                / UTC = TAI + UTC_TAI(seconds)                   \n",
       "UT1-TAI = -36.61               / UT1 = TAI + UT1_TAI(seconds)                   \n",
       "LST     = '16:59:45.445'       / Local Apperent Sidereal time                   \n",
       "OBJNAME = 'HCG 79'             / Object name, per TCC ObjName                   \n",
       "RADECSYS= 'FK5'                / Coordinate system, per TCC ObjSys              \n",
       "EQUINOX = +2.0000000000000E+03 / Equinox, per TCC ObjSys                        \n",
       "OBJANGLE= +5.7880000000000E-03 / Angle from inst x,y to sky                     \n",
       "RA      = '15:59:15.82'        / RA hours, extrapolated from TCC ObjNetPos      \n",
       "DEC     = '20:44:36.00'        / Dec degrees, extrapolated from TCC ObjNetPos   \n",
       "ARCOFFX = +1.5278000000000E-02 / TCC arc offset X                               \n",
       "ARCOFFY = -1.5278000000000E-02 / TCC arc offset Y                               \n",
       "CALOFFX = +0.0000000000000E+00 / TCC calibration offset X                       \n",
       "CALOFFY = +0.0000000000000E+00 / TCC calibration offset Y                       \n",
       "BOREOFFX= +0.0000000000000E+00 / TCC boresight offset X                         \n",
       "BOREOFFY= +0.0000000000000E+00 / TCC boresight offset Y                         \n",
       "AIRPRESS= +7.2753000000000E+04 / Air pressure, Pascals                          \n",
       "HUMIDITY= +6.0000000000000E-01 / Humidity, fraction                             \n",
       "TELAZ   = +3.0862550600000E+02 / TCC AxePos azimuth                             \n",
       "TELALT  = +7.2095815000000E+01 / TCC AxePos altitude                            \n",
       "TELROT  = -6.2107897000000E+01 / TCC AxePos rotator                             \n",
       "TELFOCUS= +6.1000000000000E+02 / TCC SecFocus                                   \n",
       "ZD      = +1.7904185000000E+01 / Zenith distance                                \n",
       "AIRMASS = +1.0508926818821E+00 / 1/cos(ZD)                                      \n",
       "FILENAME= 'hcg79_m.0001.fits'  / original filename                              \n",
       "CTYPE1  = 'RA---TAN'           / WCS projection                                 \n",
       "CTYPE2  = 'DEC--TAN'           / WCS projection                                 \n",
       "CRPIX1  = +1.0000000000000E+03 / WCS reference pixel                            \n",
       "CRPIX2  = +1.0000000000000E+03 / WCS reference pixel                            \n",
       "CRVAL1  = +2.3981592000000E+02 / WCS reference sky pos.                         \n",
       "CRVAL2  = +2.0743332000000E+01 / WCS reference sky pos.                         \n",
       "CD1_1   = -6.3951498856708E-05 / WCS (1/InstScaleX)*cos(InstAng)                \n",
       "CD1_2   = +6.4314850295641E-09 / WCS (1/InstScaleY)*sin(InstAng)                \n",
       "CD2_1   = +6.4603585078590E-09 / WCS (-1/(InstScaleX)*sin(InstAng)              \n",
       "CD2_2   = +6.3665678462698E-05 / WCS (1/InstScaleY)*cos(InstAng)                \n",
       "COMMENT   FITS (Flexible Image Transport System) format is defined in 'Astronomy\n",
       "COMMENT   and Astrophysics', volume 376, page 359; bibcode: 2001A&A...376..359H \n",
       "BZERO   =                32768 / offset data range to that of unsigned short    \n",
       "BSCALE  =                    1 / default scaling factor                         \n",
       "DATE-OBS= '2017-05-24T07:55:13.095261' / TAI time at the start of the exposure  \n",
       "FILPOS  =                    5 / filter position                                \n",
       "FILTER  = 'Wash M  '           / filter name                                    \n",
       "BEGX    =                    1 / beginning column of CCD window                 \n",
       "BEGY    =                    1 / beginning row of CCD window                    \n",
       "BINX    =                    2 / column bin factor                              \n",
       "BINY    =                    2 / row bin factor                                 \n",
       "CCDBIN1 =                    2 / column bin factor                              \n",
       "CCDBIN2 =                    2 / row bin factor                                 \n",
       "IMAGETYP= 'Object  '           / exposure type                                  \n",
       "EXPTIME =                600.0 / estimated exposure time (sec)                  \n",
       "READAMPS= 'Quad    '           / readout amplifier(s)                           \n",
       "READRATE= 'Medium  '           / readout rate                                   \n",
       "CCDHEAD =                186.8 / CCD cold head temperature (K)                  \n",
       "CCDTEMP =                150.4 / CCD temperature (K)                            \n",
       "CCDHEAT =                 68.5 / CCD heater level (percent)                     \n",
       "DIFFUPOS= 'OUT     '           / Diffuser positon, in or out of the beam.       \n",
       "DIFFUROT= 'OFF     '           / Diffuser rotating.                             \n",
       "AMPLIST = '11 12 21 22'        / amplifiers read <x><y> e.g. 12=LR              \n",
       "CSEC11  = '[1:2048,1:2048]'    / data section of CCD (unbinned)                 \n",
       "DSEC11  = '[3:1026,1:1024]'    / data section of image (binned)                 \n",
       "BSEC11  = '[1029:1051,1:1024]' / bias section of image (binned)                 \n",
       "GTGAIN11=                 1.97 / predicted gain (e-/ADU)                        \n",
       "GTRON11 =                  3.9 / predicted read noise (e-)                      \n",
       "CSEC12  = '[1:2048,2049:4096]' / data section of CCD (unbinned)                 \n",
       "DSEC12  = '[3:1026,1027:2050]' / data section of image (binned)                 \n",
       "BSEC12  = '[1029:1051,1027:2050]' / bias section of image (binned)              \n",
       "GTGAIN12=                 1.95 / predicted gain (e-/ADU)                        \n",
       "GTRON12 =                  3.9 / predicted read noise (e-)                      \n",
       "CSEC21  = '[2049:4096,1:2048]' / data section of CCD (unbinned)                 \n",
       "DSEC21  = '[1077:2100,1:1024]' / data section of image (binned)                 \n",
       "BSEC21  = '[1052:1074,1:1024]' / bias section of image (binned)                 \n",
       "GTGAIN21=                 1.95 / predicted gain (e-/ADU)                        \n",
       "GTRON21 =                  3.9 / predicted read noise (e-)                      \n",
       "CSEC22  = '[2049:4096,2049:4096]' / data section of CCD (unbinned)              \n",
       "DSEC22  = '[1077:2100,1027:2050]' / data section of image (binned)              \n",
       "BSEC22  = '[1052:1074,1027:2050]' / bias section of image (binned)              \n",
       "GTGAIN22=                 1.97 / predicted gain (e-/ADU)                        \n",
       "GTRON22 =                  3.8 / predicted read noise (e-)                      "
      ]
     },
     "execution_count": 42,
     "metadata": {},
     "output_type": "execute_result"
    }
   ],
   "source": [
    "galaxy[0].header"
   ]
  },
  {
   "cell_type": "code",
   "execution_count": 43,
   "metadata": {},
   "outputs": [],
   "source": [
    "fits2 = './fits/ngc2998.0042b.fits'"
   ]
  },
  {
   "cell_type": "code",
   "execution_count": 44,
   "metadata": {},
   "outputs": [],
   "source": [
    "newobj = fits.open(fits2)"
   ]
  },
  {
   "cell_type": "code",
   "execution_count": 45,
   "metadata": {},
   "outputs": [
    {
     "data": {
      "text/plain": [
       "SIMPLE  =                    T                                                  \n",
       "BITPIX  =                   16                                                  \n",
       "NAXIS   =                    2                                                  \n",
       "NAXIS1  =                 2098                                                  \n",
       "NAXIS2  =                 1078                                                  \n",
       "OBSERVAT= 'APO'                / Per the IRAF observatory list.                 \n",
       "TELESCOP= '3.5m'                                                                \n",
       "INSTRUME= 'DIS'                / Instrument name                                \n",
       "LATITUDE= +3.2780361000000E+01 / Latitude of telescope base                     \n",
       "LONGITUD= -1.0582041700000E+02 / Longitude of telescope base                    \n",
       "TIMESYS = 'TAI'                / Time system for DATE-OBS                       \n",
       "UTC-TAI = -37.0                / UTC = TAI + UTC_TAI(seconds)                   \n",
       "UT1-TAI = -36.44               / UT1 = TAI + UT1_TAI(seconds)                   \n",
       "LST     = '07:34:38.110'       / Local Apperent Sidereal time                   \n",
       "OBJNAME = 'NGC 2998'           / Object name, per TCC ObjName                   \n",
       "RADECSYS= 'FK5'                / Coordinate system, per TCC ObjSys              \n",
       "EQUINOX = +2.0000000000000E+03 / Equinox, per TCC ObjSys                        \n",
       "OBJANGLE= -3.7000000000000E+01 / Angle from inst x,y to sky                     \n",
       "RA      = '9:48:43.63'         / RA hours, extrapolated from TCC ObjNetPos      \n",
       "DEC     = '44:04:52.60'        / Dec degrees, extrapolated from TCC ObjNetPos   \n",
       "ARCOFFX = +0.0000000000000E+00 / TCC arc offset X                               \n",
       "ARCOFFY = +0.0000000000000E+00 / TCC arc offset Y                               \n",
       "CALOFFX = +0.0000000000000E+00 / TCC calibration offset X                       \n",
       "CALOFFY = +0.0000000000000E+00 / TCC calibration offset Y                       \n",
       "BOREOFFX= +0.0000000000000E+00 / TCC boresight offset X                         \n",
       "BOREOFFY= +0.0000000000000E+00 / TCC boresight offset Y                         \n",
       "AIRPRESS= +7.3132000000000E+04 / Air pressure, Pascals                          \n",
       "HUMIDITY= +2.3000000000000E-01 / Humidity, fraction                             \n",
       "TELAZ   = +1.2303369500000E+02 / TCC AxePos azimuth                             \n",
       "TELALT  = +6.1539781000000E+01 / TCC AxePos altitude                            \n",
       "TELROT  = +3.6268529000000E+01 / TCC AxePos rotator                             \n",
       "TELFOCUS= +7.1900000000000E+02 / TCC SecFocus                                   \n",
       "ZD      = +2.8460219000000E+01 / Zenith distance                                \n",
       "AIRMASS = +1.1374646547917E+00 / 1/cos(ZD)                                      \n",
       "FILENAME= 'ngc2998.0042b.fits' / original filename                              \n",
       "CTYPE1  = 'RA---TAN'           / WCS projection                                 \n",
       "CTYPE2  = 'DEC--TAN'           / WCS projection                                 \n",
       "CRPIX1  = +5.2000000000000E+02 / WCS reference pixel                            \n",
       "CRPIX2  = +5.0100000000000E+02 / WCS reference pixel                            \n",
       "CRVAL1  = +1.4718179200000E+02 / WCS reference sky pos.                         \n",
       "CRVAL2  = +4.4081278000000E+01 / WCS reference sky pos.                         \n",
       "CD1_1   = -3.6067991872972E-05 / WCS (1/InstScaleX)*cos(InstAng)                \n",
       "CD1_2   = -2.7449930585613E-05 / WCS (1/InstScaleY)*sin(InstAng)                \n",
       "CD2_1   = -2.7179181354953E-05 / WCS (-1/(InstScaleX)*sin(InstAng)              \n",
       "CD2_2   = +3.6427288237478E-05 / WCS (1/InstScaleY)*cos(InstAng)                \n",
       "IMAGETYP= 'object'                                                              \n",
       "DATE-OBS= '2017-01-29T06:03:47.497'/ TAI time at the start of the exposure      \n",
       "EXPTIME = +1.8000000000000E+03 / actual exposure time (needs refinement)        \n",
       "MASKPOS =                    1                                                  \n",
       "SLITMASK= '1.5 Slit'                                                            \n",
       "FILPOS  =                    0                                                  \n",
       "FILTER  = 'Empty'                                                               \n",
       "TURRPOS = 'GRATINGS2'                                                           \n",
       "BSCALE  = +1.0000000000000E+00                                                  \n",
       "BZERO   = +3.2768000000000E+04                                                  \n",
       "DETECTOR= 'blue'                                                                \n",
       "DARKTIME= +1.8007592589855E+03 / Dark time, not including readout.              \n",
       "CCDTEMP = +1.7040000000000E+02 / CCD temperature (deg K)                        \n",
       "CCDHEAT = +1.0000000000000E+02 / CCD heater level (percent)                     \n",
       "GRATING = 'B400'               / Grating name                                   \n",
       "PIXSCAL2= +4.1400000000000E-01 / spatial coordinate pixel scale (arcsec/pixel)  \n",
       "DISPDW  = +1.8500000000000E+00 / Approximate dispersion, (A/pix)                \n",
       "DISPWC  = +4.3980000000000E+03 / Approximate center wavelength, (A)             \n",
       "LINESMM = +4.0000000000000E+02 / Grating lines/mm                               \n",
       "BLAZEANG= +9.9990000000000E+01 / Grating blaze angle                            \n",
       "CCDBIN1 =                    1 / Bin factor along CCD rows                      \n",
       "CCDBIN2 =                    1 / Bin factor along CCD columns                   \n",
       "CCDSUM  = '1 1'                / Binning factors, alternate FITS card.          \n",
       "DISPAXIS=                    1 / Dispersion axis                                \n",
       "GAIN    = +1.6800000000000E+00 / CCD gain (e-/ADU)                              \n",
       "RDNOISE = +4.9000000000000E+00 / CCD read noise (e-/pix)                        \n",
       "DETSIZE = '[1:2048,1:1028]'    / Detector size, unbinned pixels.                \n",
       "DATASEC = '[1:2048,1:1028]'    / Nominal readout section, binned pixels.        \n",
       "BIASSEC = '[2051:2096,2:1027]' / Serial overscan bias section.                  "
      ]
     },
     "execution_count": 45,
     "metadata": {},
     "output_type": "execute_result"
    }
   ],
   "source": [
    "newobj[0].header"
   ]
  },
  {
   "cell_type": "code",
   "execution_count": 46,
   "metadata": {},
   "outputs": [],
   "source": [
    "# these two aren't strictly necessary, I'm mostly experimenting here\n",
    "\n",
    "header = galaxy[0].header.copy()\n",
    "spec_table = galaxy[0].data.copy()\n",
    "galaxy.close()"
   ]
  },
  {
   "cell_type": "code",
   "execution_count": 47,
   "metadata": {},
   "outputs": [],
   "source": [
    "head2 = newobj[0].header.copy()\n",
    "spec_table1 = newobj[0].data.copy()\n",
    "newobj.close()"
   ]
  },
  {
   "cell_type": "code",
   "execution_count": 48,
   "metadata": {},
   "outputs": [
    {
     "data": {
      "image/png": "[encoded data removed]",
      "text/plain": [
       "<matplotlib.figure.Figure at 0x150ac0b710>"
      ]
     },
     "metadata": {},
     "output_type": "display_data"
    }
   ],
   "source": [
    "fig, ax = plt.subplots(1,1)\n",
    "\n",
    "fig.set_size_inches(12,6)\n",
    "\n",
    "fig.tight_layout()\n",
    "\n",
    "ax.imshow(spec_table,cmap=plt.cm.gray);"
   ]
  },
  {
   "cell_type": "code",
   "execution_count": 49,
   "metadata": {},
   "outputs": [
    {
     "data": {
      "image/png": "[encoded data removed]",
      "text/plain": [
       "<matplotlib.figure.Figure at 0x150c6c1470>"
      ]
     },
     "metadata": {},
     "output_type": "display_data"
    }
   ],
   "source": [
    "# Can't see shit here, and I'm not sure off hand how to change the contrast or whatever. So\n",
    "# that's a problem.\n",
    "\n",
    "fig, ax = plt.subplots(1,1)\n",
    "\n",
    "fig.set_size_inches(12,6)\n",
    "\n",
    "fig.tight_layout()\n",
    "\n",
    "ax.imshow(spec_table1,cmap=plt.cm.gray);"
   ]
  },
  {
   "cell_type": "code",
   "execution_count": null,
   "metadata": {},
   "outputs": [],
   "source": []
  }
 ],
 "metadata": {
  "kernelspec": {
   "display_name": "Python 3",
   "language": "python",
   "name": "python3"
  },
  "language_info": {
   "codemirror_mode": {
    "name": "ipython",
    "version": 3
   },
   "file_extension": ".py",
   "mimetype": "text/x-python",
   "name": "python",
   "nbconvert_exporter": "python",
   "pygments_lexer": "ipython3",
   "version": "3.6.4"
  }
 },
 "nbformat": 4,
 "nbformat_minor": 2
}
