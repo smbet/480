{
 "cells": [
  {
   "cell_type": "code",
   "execution_count": 9,
   "metadata": {},
   "outputs": [],
   "source": [
    "%matplotlib inline\n",
    "\n",
    "import numpy as np\n",
    "import matplotlib.pylab as plt\n",
    "\n",
    "import astropy.io.fits as fits\n",
    "import astropy.units as u\n",
    "from astropy.time import Time\n",
    "from astropy.coordinates import SkyCoord\n",
    "from astropy.coordinates import get_sun, get_body, get_moon\n",
    "\n",
    "import pytz\n",
    "\n",
    "from astroplan import Observer, FixedTarget, time_grid_from_range, observability_table, moon_illumination\n",
    "from astroplan import AirmassConstraint, MoonSeparationConstraint"
   ]
  },
  {
   "cell_type": "code",
   "execution_count": 6,
   "metadata": {},
   "outputs": [
    {
     "data": {
      "text/plain": [
       "<Observer: name='apo',\n",
       "    location (lon, lat, el)=(-105.82000000000002 deg, 32.78000000000001 deg, 2797.9999999996007 m),\n",
       "    timezone=<UTC>>"
      ]
     },
     "execution_count": 6,
     "metadata": {},
     "output_type": "execute_result"
    }
   ],
   "source": [
    "apo = Observer.at_site('apo')\n",
    "\n",
    "apo"
   ]
  },
  {
   "cell_type": "code",
   "execution_count": 7,
   "metadata": {},
   "outputs": [],
   "source": [
    "reference_time = Time('2018-5-29')"
   ]
  },
  {
   "cell_type": "code",
   "execution_count": 8,
   "metadata": {},
   "outputs": [],
   "source": [
    "tz_1 = pytz.timezone(\"America/Denver\")"
   ]
  },
  {
   "cell_type": "code",
   "execution_count": 10,
   "metadata": {},
   "outputs": [],
   "source": [
    "constraints = [MoonSeparationConstraint(35*u.deg)]\n",
    "constraints.append(AirmassConstraint(2))"
   ]
  },
  {
   "cell_type": "code",
   "execution_count": 11,
   "metadata": {},
   "outputs": [
    {
     "name": "stdout",
     "output_type": "stream",
     "text": [
      "Astronomical Evening Twilight starts at 2018-05-29 03:42:51.460 UTC\n",
      "Astronomical Morning Twilight starts at 2018-05-29 10:18:14.263 UTC\n",
      "You can observe for 6.6 h during the observing window.\n"
     ]
    }
   ],
   "source": [
    "astro_set1 = apo.twilight_evening_astronomical(reference_time, which='nearest')\n",
    "astro_rise1 = apo.twilight_morning_astronomical(reference_time, which='next')\n",
    "observing_length1 = (astro_rise1 - astro_set1).to(u.h)\n",
    "\n",
    "print(\"Astronomical Evening Twilight starts at {0.iso} UTC\".format(astro_set1))\n",
    "print(\"Astronomical Morning Twilight starts at {0.iso} UTC\".format(astro_rise1))\n",
    "print(\"You can observe for {0:.1f} during the observing window.\".format(observing_length1))"
   ]
  },
  {
   "cell_type": "code",
   "execution_count": 15,
   "metadata": {},
   "outputs": [
    {
     "data": {
      "text/latex": [
       "$0.1436308 \\; \\mathrm{rad}$"
      ],
      "text/plain": [
       "<Quantity 0.1436308 rad>"
      ]
     },
     "execution_count": 15,
     "metadata": {},
     "output_type": "execute_result"
    }
   ],
   "source": [
    "apo.moon_phase(reference_time)"
   ]
  },
  {
   "cell_type": "markdown",
   "metadata": {},
   "source": [
    "### ugh..."
   ]
  },
  {
   "cell_type": "code",
   "execution_count": 29,
   "metadata": {},
   "outputs": [
    {
     "name": "stdout",
     "output_type": "stream",
     "text": [
      "The moon rise/set times in May at APO are 2018-05-28 19:25:39.277 and 2018-05-29 06:08:54.805, respectively.\n",
      "This means it'll be up for 10.7 h, i.e. all damn night.\n"
     ]
    }
   ],
   "source": [
    "moonrise = apo.moon_rise_time(reference_time,which='nearest')\n",
    "moonset = apo.moon_set_time(reference_time,which='next')\n",
    "lunar_day = (moonset - moonrise).to(u.h)\n",
    "\n",
    "print(\"The moon rise/set times in May at APO are {0.iso} and {1.iso}, respectively.\"\n",
    "      .format(moonrise-6*u.hr, moonset-6*u.hr))\n",
    "print(\"This means it'll be up for {0:.1f}, i.e. all damn night.\".format(lunar_day))"
   ]
  },
  {
   "cell_type": "code",
   "execution_count": 30,
   "metadata": {},
   "outputs": [
    {
     "data": {
      "text/plain": [
       "0.9948514083670521"
      ]
     },
     "execution_count": 30,
     "metadata": {},
     "output_type": "execute_result"
    }
   ],
   "source": [
    "apo.moon_illumination(reference_time) # lol"
   ]
  },
  {
   "cell_type": "code",
   "execution_count": null,
   "metadata": {},
   "outputs": [],
   "source": []
  }
 ],
 "metadata": {
  "kernelspec": {
   "display_name": "Python 3",
   "language": "python",
   "name": "python3"
  },
  "language_info": {
   "codemirror_mode": {
    "name": "ipython",
    "version": 3
   },
   "file_extension": ".py",
   "mimetype": "text/x-python",
   "name": "python",
   "nbconvert_exporter": "python",
   "pygments_lexer": "ipython3",
   "version": "3.6.4"
  }
 },
 "nbformat": 4,
 "nbformat_minor": 2
}
