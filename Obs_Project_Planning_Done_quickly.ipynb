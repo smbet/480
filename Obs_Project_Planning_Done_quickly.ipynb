{
 "cells": [
  {
   "cell_type": "code",
   "execution_count": 1,
   "metadata": {},
   "outputs": [],
   "source": [
    "%matplotlib inline\n",
    "\n",
    "import numpy as np\n",
    "import matplotlib.pylab as plt\n",
    "\n",
    "# Not sure I'll need all this, grabbing it all just in case...\n",
    "\n",
    "import astropy.io.fits as fits\n",
    "import astropy.units as u\n",
    "from astropy.time import Time\n",
    "from astropy.coordinates import SkyCoord\n",
    "from astropy.coordinates import get_sun, get_body, get_moon\n",
    "\n",
    "import pytz\n",
    "\n",
    "from astroplan import Observer, FixedTarget, time_grid_from_range, observability_table, moon_illumination\n",
    "from astroplan import AirmassConstraint, MoonSeparationConstraint"
   ]
  },
  {
   "cell_type": "code",
   "execution_count": 2,
   "metadata": {},
   "outputs": [],
   "source": [
    "apo = Observer.at_site('apo')"
   ]
  },
  {
   "cell_type": "code",
   "execution_count": 3,
   "metadata": {},
   "outputs": [],
   "source": [
    "reference_time = Time('2018-5-19')"
   ]
  },
  {
   "cell_type": "code",
   "execution_count": 4,
   "metadata": {},
   "outputs": [],
   "source": [
    "tz_1 = pytz.timezone(\"America/Denver\")"
   ]
  },
  {
   "cell_type": "code",
   "execution_count": 5,
   "metadata": {},
   "outputs": [],
   "source": [
    "constraints = [MoonSeparationConstraint(25*u.deg)]\n",
    "constraints.append(AirmassConstraint(2))"
   ]
  },
  {
   "cell_type": "code",
   "execution_count": 6,
   "metadata": {},
   "outputs": [
    {
     "name": "stdout",
     "output_type": "stream",
     "text": [
      "Astronomical Evening Twilight starts at 2018-05-19 03:33:27.086 UTC\n",
      "Astronomical Morning Twilight starts at 2018-05-19 10:25:44.668 UTC\n",
      "You can observe for 6.9 h during the observing window.\n"
     ]
    }
   ],
   "source": [
    "astro_set1 = apo.twilight_evening_astronomical(reference_time, which='nearest')\n",
    "astro_rise1 = apo.twilight_morning_astronomical(reference_time, which='next')\n",
    "observing_length1 = (astro_rise1 - astro_set1).to(u.h)\n",
    "\n",
    "print(\"Astronomical Evening Twilight starts at {0.iso} UTC\".format(astro_set1))\n",
    "print(\"Astronomical Morning Twilight starts at {0.iso} UTC\".format(astro_rise1))\n",
    "print(\"You can observe for {0:.1f} during the observing window.\".format(observing_length1))"
   ]
  },
  {
   "cell_type": "code",
   "execution_count": 7,
   "metadata": {},
   "outputs": [
    {
     "name": "stdout",
     "output_type": "stream",
     "text": [
      "2.30130362773722 rad\n"
     ]
    }
   ],
   "source": [
    "print(apo.moon_phase(reference_time))"
   ]
  },
  {
   "cell_type": "code",
   "execution_count": 8,
   "metadata": {},
   "outputs": [],
   "source": [
    "# right on"
   ]
  },
  {
   "cell_type": "code",
   "execution_count": 9,
   "metadata": {},
   "outputs": [
    {
     "data": {
      "text/plain": [
       "0.16637621157343807"
      ]
     },
     "execution_count": 9,
     "metadata": {},
     "output_type": "execute_result"
    }
   ],
   "source": [
    "apo.moon_illumination(reference_time)"
   ]
  },
  {
   "cell_type": "code",
   "execution_count": 10,
   "metadata": {},
   "outputs": [],
   "source": [
    "# much better than last time we tried this"
   ]
  },
  {
   "cell_type": "code",
   "execution_count": 11,
   "metadata": {},
   "outputs": [],
   "source": [
    "obs_range = [astro_set1, astro_rise1]"
   ]
  },
  {
   "cell_type": "markdown",
   "metadata": {},
   "source": [
    "# Here is where the target list of galaxies may be found:"
   ]
  },
  {
   "cell_type": "code",
   "execution_count": 17,
   "metadata": {},
   "outputs": [],
   "source": [
    "target_array = [['M49', 12.5, 8.0],\n",
    "               ['M89',  12+35/60+39.8/3600, 12+33/60+23/3600],\n",
    "               ['NGC 4214', 12+(15/60)+(39.2/3600), 69+(27/60)+(45/3600)],\n",
    "               ['NGC 4449', 12+(28/60)+(11.118/3600), 44+(5/60)+(36.81/3600)]]"
   ]
  },
  {
   "cell_type": "code",
   "execution_count": 18,
   "metadata": {},
   "outputs": [
    {
     "data": {
      "text/plain": [
       "[['M49', 12.5, 8.0],\n",
       " ['M89', 12.59438888888889, 12.55638888888889],\n",
       " ['NGC 4214', 12.26088888888889, 69.4625],\n",
       " ['NGC 4449', 12.469755, 44.093558333333334]]"
      ]
     },
     "execution_count": 18,
     "metadata": {},
     "output_type": "execute_result"
    }
   ],
   "source": [
    "target_array"
   ]
  },
  {
   "cell_type": "code",
   "execution_count": 13,
   "metadata": {},
   "outputs": [],
   "source": [
    "targets = [FixedTarget(coord=SkyCoord(ra = RA*u.hr, dec = DEC*u.deg), name=Name)\n",
    "           for Name, RA, DEC in target_array]"
   ]
  },
  {
   "cell_type": "code",
   "execution_count": 14,
   "metadata": {},
   "outputs": [
    {
     "name": "stdout",
     "output_type": "stream",
     "text": [
      "target name ever observable always observable fraction of time observable\n",
      "----------- --------------- ----------------- ---------------------------\n",
      "        M49            True             False          0.6428571428571429\n",
      "        M89            True             False          0.6428571428571429\n",
      "   NGC 4214            True             False          0.9285714285714286\n",
      "   NGC 4449            True             False          0.7857142857142857\n"
     ]
    }
   ],
   "source": [
    "observing_table = observability_table(constraints, apo, targets, time_range=obs_range)\n",
    "\n",
    "print(observing_table)"
   ]
  },
  {
   "cell_type": "code",
   "execution_count": 15,
   "metadata": {},
   "outputs": [
    {
     "name": "stdout",
     "output_type": "stream",
     "text": [
      "You can observe M49 for 4.42 h\n",
      "You can observe M89 for 4.42 h\n",
      "You can observe NGC 4214 for 6.38 h\n",
      "You can observe NGC 4449 for 5.40 h\n"
     ]
    }
   ],
   "source": [
    "for i, target_table in enumerate(targets):\n",
    "\n",
    "    if observing_table['ever observable'][i]:\n",
    "        name = observing_table['target name'][i]\n",
    "        obj_frac = observing_table['fraction of time observable'][i]\n",
    "        obj_time = obj_frac * observing_length1\n",
    "        output = \"You can observe {0:s} for {1:.2f}\".format(name, obj_time.to(u.h))\n",
    "        print(output)"
   ]
  },
  {
   "cell_type": "code",
   "execution_count": 16,
   "metadata": {},
   "outputs": [],
   "source": [
    "# M101 was a spur-of-the-moment thing, so of course I didn't plan for it in here. And M100 was Jocelin's idea,\n",
    "# ergo it is also absent."
   ]
  }
 ],
 "metadata": {
  "kernelspec": {
   "display_name": "Python 3",
   "language": "python",
   "name": "python3"
  },
  "language_info": {
   "codemirror_mode": {
    "name": "ipython",
    "version": 3
   },
   "file_extension": ".py",
   "mimetype": "text/x-python",
   "name": "python",
   "nbconvert_exporter": "python",
   "pygments_lexer": "ipython3",
   "version": "3.6.4"
  }
 },
 "nbformat": 4,
 "nbformat_minor": 2
}
