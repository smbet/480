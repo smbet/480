{
 "cells": [
  {
   "cell_type": "code",
   "execution_count": 94,
   "metadata": {},
   "outputs": [],
   "source": [
    "%matplotlib inline\n",
    "\n",
    "import numpy as np\n",
    "import matplotlib.pylab as plt\n",
    "\n",
    "# not sure I'll need all this, grabbing it all just in case\n",
    "\n",
    "import astropy.io.fits as fits\n",
    "import astropy.units as u\n",
    "from astropy.time import Time\n",
    "from astropy.coordinates import SkyCoord\n",
    "from astropy.coordinates import get_sun, get_body, get_moon\n",
    "\n",
    "import pytz\n",
    "\n",
    "from astroplan import Observer, FixedTarget, time_grid_from_range, observability_table, moon_illumination\n",
    "from astroplan import AirmassConstraint, MoonSeparationConstraint"
   ]
  },
  {
   "cell_type": "code",
   "execution_count": 95,
   "metadata": {},
   "outputs": [],
   "source": [
    "apo = Observer.at_site('apo')"
   ]
  },
  {
   "cell_type": "code",
   "execution_count": 96,
   "metadata": {},
   "outputs": [],
   "source": [
    "reference_time = Time('2018-5-18')"
   ]
  },
  {
   "cell_type": "code",
   "execution_count": 97,
   "metadata": {},
   "outputs": [],
   "source": [
    "tz_1 = pytz.timezone(\"America/Denver\")"
   ]
  },
  {
   "cell_type": "code",
   "execution_count": 98,
   "metadata": {},
   "outputs": [],
   "source": [
    "constraints = [MoonSeparationConstraint(25*u.deg)]\n",
    "constraints.append(AirmassConstraint(2))"
   ]
  },
  {
   "cell_type": "code",
   "execution_count": 99,
   "metadata": {},
   "outputs": [
    {
     "name": "stdout",
     "output_type": "stream",
     "text": [
      "Astronomical Evening Twilight starts at 2018-05-18 03:32:26.384 UTC\n",
      "Astronomical Morning Twilight starts at 2018-05-18 10:26:39.610 UTC\n",
      "You can observe for 6.9 h during the observing window.\n"
     ]
    }
   ],
   "source": [
    "astro_set1 = apo.twilight_evening_astronomical(reference_time, which='nearest')\n",
    "astro_rise1 = apo.twilight_morning_astronomical(reference_time, which='next')\n",
    "observing_length1 = (astro_rise1 - astro_set1).to(u.h)\n",
    "\n",
    "print(\"Astronomical Evening Twilight starts at {0.iso} UTC\".format(astro_set1))\n",
    "print(\"Astronomical Morning Twilight starts at {0.iso} UTC\".format(astro_rise1))\n",
    "print(\"You can observe for {0:.1f} during the observing window.\".format(observing_length1))"
   ]
  },
  {
   "cell_type": "code",
   "execution_count": 100,
   "metadata": {},
   "outputs": [
    {
     "name": "stdout",
     "output_type": "stream",
     "text": [
      "2.5390025074076488 rad\n"
     ]
    }
   ],
   "source": [
    "print(apo.moon_phase(reference_time))"
   ]
  },
  {
   "cell_type": "code",
   "execution_count": 101,
   "metadata": {},
   "outputs": [],
   "source": [
    "# right on"
   ]
  },
  {
   "cell_type": "code",
   "execution_count": 102,
   "metadata": {},
   "outputs": [
    {
     "data": {
      "text/plain": [
       "0.08806482926481685"
      ]
     },
     "execution_count": 102,
     "metadata": {},
     "output_type": "execute_result"
    }
   ],
   "source": [
    "apo.moon_illumination(reference_time)"
   ]
  },
  {
   "cell_type": "code",
   "execution_count": 103,
   "metadata": {},
   "outputs": [],
   "source": [
    "# much better than last time we tried this"
   ]
  },
  {
   "cell_type": "code",
   "execution_count": 104,
   "metadata": {},
   "outputs": [],
   "source": [
    "obs_range = [astro_set1, astro_rise1]"
   ]
  },
  {
   "cell_type": "markdown",
   "metadata": {},
   "source": [
    "# Here is where the target list of galaxies may be found:"
   ]
  },
  {
   "cell_type": "code",
   "execution_count": 105,
   "metadata": {},
   "outputs": [],
   "source": [
    "# Some of these are probably too faint (I couldn't actually remember what you said our max magnitude was likely to be,\n",
    "# so I just used 20 as a cutoff), but I figured a larger list of targets couldn't hurt. I was also just selecting these\n",
    "# by perusing SDSS images and picking galxies when they had low enough magnitudes, which means a lot of them were\n",
    "# overexposed. So it may not quite have worked out like I was hoping morphology-wise, but best laid plans and such...\n",
    "\n",
    "target_array = [['SDSS J150051+031511.5', 225.212685, 3.253196], \n",
    "               ['SDSS J150108.2+032030.1', 225.284286, 3.341717],\n",
    "               ['SDSS J150052.2+032729.9', 225.21773, 3.458323],\n",
    "               ['SDSS J150133.1+033548.9', 225.388195, 3.596924],\n",
    "               ['SDSS J150157.3+034842', 225.488932, 3.811684],\n",
    "               ['SDSS J150409.8+034314.2', 226.041027, 3.720614],\n",
    "               ['SDSS J150400.7+035504.8', 226.003004, 3.918004],\n",
    "               ['SDSS J150351.9+035441.6', 225.966388, 3.911572],\n",
    "               ['SDSS J150359.4+041648.6', 225.997552, 4.280173],\n",
    "               ['SDSS J150337.1+042017.6', 225.904716, 4.338227],\n",
    "               ['SDSS J154401.8+023055.2', 236.007775, 2.515347],\n",
    "               ['SDSS J154346.4+022624.2', 235.943454, 2.440082],\n",
    "               ['SDSS J154430.2+032212.2', 236.125887, 3.370082],\n",
    "               ['SDSS J154233.6+032937.2', 235.640167, 3.493672],\n",
    "               ['SDSS J153901+032803.8', 234.754254, 3.467724],\n",
    "               ['SDSS J153318+031922.5', 233.325088, 3.32294],\n",
    "               ['SDSS J151211.3+041920.4', 228.047258, 4.322337],\n",
    "               ['SDSS J150928+035156.8', 227.366834, 3.865784],\n",
    "               ['SDSS J150152.3+032137.6', 225.468068, 3.360446],\n",
    "               ['SDSS J150012.9+031541.7', 225.054138, 3.261601],\n",
    "               ['SDSS J150101.4+025351.1', 225.256033, 2.897534],\n",
    "               ['SDSS J150111.2+014207.1', 225.296805, 1.701983],\n",
    "               ['SDSS J150000.4+015328.7', 225.001667, 1.891325],\n",
    "               ['SDSS J144455.9+015718', 221.232992, 1.955003],\n",
    "               ['SDSS J144725.6+020208.6', 221.856789, 2.035734],\n",
    "               ['SDSS J144611.1-001322.8', 221.54635, -0.223017]]"
   ]
  },
  {
   "cell_type": "code",
   "execution_count": 106,
   "metadata": {},
   "outputs": [],
   "source": [
    "targets = [FixedTarget(coord=SkyCoord(ra = RA*u.deg, dec = DEC*u.deg), name=Name)\n",
    "           for Name, RA, DEC in target_array]"
   ]
  },
  {
   "cell_type": "code",
   "execution_count": 107,
   "metadata": {},
   "outputs": [
    {
     "name": "stdout",
     "output_type": "stream",
     "text": [
      "      target name       ever observable ... fraction of time observable\n",
      "----------------------- --------------- ... ---------------------------\n",
      "  SDSS J150051+031511.5            True ...                         1.0\n",
      "SDSS J150108.2+032030.1            True ...                         1.0\n",
      "SDSS J150052.2+032729.9            True ...                         1.0\n",
      "SDSS J150133.1+033548.9            True ...                         1.0\n",
      "  SDSS J150157.3+034842            True ...                         1.0\n",
      "SDSS J150409.8+034314.2            True ...                         1.0\n",
      "SDSS J150400.7+035504.8            True ...                         1.0\n",
      "SDSS J150351.9+035441.6            True ...                         1.0\n",
      "SDSS J150359.4+041648.6            True ...                         1.0\n",
      "SDSS J150337.1+042017.6            True ...                         1.0\n",
      "                    ...             ... ...                         ...\n",
      "  SDSS J153318+031922.5            True ...                         1.0\n",
      "SDSS J151211.3+041920.4            True ...                         1.0\n",
      "  SDSS J150928+035156.8            True ...                         1.0\n",
      "SDSS J150152.3+032137.6            True ...                         1.0\n",
      "SDSS J150012.9+031541.7            True ...                         1.0\n",
      "SDSS J150101.4+025351.1            True ...                         1.0\n",
      "SDSS J150111.2+014207.1            True ...          0.9285714285714286\n",
      "SDSS J150000.4+015328.7            True ...          0.9285714285714286\n",
      "  SDSS J144455.9+015718            True ...          0.9285714285714286\n",
      "SDSS J144725.6+020208.6            True ...          0.9285714285714286\n",
      "SDSS J144611.1-001322.8            True ...          0.9285714285714286\n",
      "Length = 26 rows\n"
     ]
    }
   ],
   "source": [
    "observing_table = observability_table(constraints, apo, targets, time_range=obs_range)\n",
    "\n",
    "print(observing_table)"
   ]
  },
  {
   "cell_type": "code",
   "execution_count": 108,
   "metadata": {},
   "outputs": [
    {
     "name": "stdout",
     "output_type": "stream",
     "text": [
      "You can observe SDSS J150051+031511.5 for 6.90 h\n",
      "You can observe SDSS J150108.2+032030.1 for 6.90 h\n",
      "You can observe SDSS J150052.2+032729.9 for 6.90 h\n",
      "You can observe SDSS J150133.1+033548.9 for 6.90 h\n",
      "You can observe SDSS J150157.3+034842 for 6.90 h\n",
      "You can observe SDSS J150409.8+034314.2 for 6.90 h\n",
      "You can observe SDSS J150400.7+035504.8 for 6.90 h\n",
      "You can observe SDSS J150351.9+035441.6 for 6.90 h\n",
      "You can observe SDSS J150359.4+041648.6 for 6.90 h\n",
      "You can observe SDSS J150337.1+042017.6 for 6.90 h\n",
      "You can observe SDSS J154401.8+023055.2 for 6.90 h\n",
      "You can observe SDSS J154346.4+022624.2 for 6.90 h\n",
      "You can observe SDSS J154430.2+032212.2 for 6.90 h\n",
      "You can observe SDSS J154233.6+032937.2 for 6.90 h\n",
      "You can observe SDSS J153901+032803.8 for 6.90 h\n",
      "You can observe SDSS J153318+031922.5 for 6.90 h\n",
      "You can observe SDSS J151211.3+041920.4 for 6.90 h\n",
      "You can observe SDSS J150928+035156.8 for 6.90 h\n",
      "You can observe SDSS J150152.3+032137.6 for 6.90 h\n",
      "You can observe SDSS J150012.9+031541.7 for 6.90 h\n",
      "You can observe SDSS J150101.4+025351.1 for 6.90 h\n",
      "You can observe SDSS J150111.2+014207.1 for 6.41 h\n",
      "You can observe SDSS J150000.4+015328.7 for 6.41 h\n",
      "You can observe SDSS J144455.9+015718 for 6.41 h\n",
      "You can observe SDSS J144725.6+020208.6 for 6.41 h\n",
      "You can observe SDSS J144611.1-001322.8 for 6.41 h\n"
     ]
    }
   ],
   "source": [
    "for i, target_table in enumerate(targets):\n",
    "\n",
    "    if observing_table['ever observable'][i]:\n",
    "        name = observing_table['target name'][i]\n",
    "        obj_frac = observing_table['fraction of time observable'][i]\n",
    "        obj_time = obj_frac * observing_length1\n",
    "        output = \"You can observe {0:s} for {1:.2f}\".format(name, obj_time.to(u.h))\n",
    "        print(output)"
   ]
  },
  {
   "cell_type": "code",
   "execution_count": 109,
   "metadata": {},
   "outputs": [
    {
     "name": "stdout",
     "output_type": "stream",
     "text": [
      "2018-05-17 18:14:17.741717-06:00\n",
      "2018-05-17 18:14:21.137554-06:00\n",
      "2018-05-17 18:13:47.139629-06:00\n",
      "2018-05-17 18:14:06.397179-06:00\n",
      "2018-05-17 18:13:57.152168-06:00\n",
      "2018-05-17 18:16:23.327074-06:00\n",
      "2018-05-17 18:15:43.575127-06:00\n",
      "2018-05-17 18:15:35.816650-06:00\n",
      "2018-05-17 18:14:45.984291-06:00\n",
      "2018-05-17 18:14:14.758430-06:00\n",
      "2018-05-17 18:59:13.468877-06:00\n",
      "2018-05-17 18:59:09.744013-06:00\n",
      "2018-05-17 18:57:29.269161-06:00\n",
      "2018-05-17 18:55:13.882045-06:00\n",
      "2018-05-17 18:51:46.077057-06:00\n",
      "2018-05-17 18:46:26.836061-06:00\n",
      "2018-05-17 18:22:49.580743-06:00\n",
      "2018-05-17 18:21:17.862673-06:00\n",
      "2018-05-17 18:15:02.181508-06:00\n",
      "2018-05-17 18:13:38.528853-06:00\n",
      "2018-05-17 18:15:23.230518-06:00\n",
      "2018-05-17 18:18:38.042055-06:00\n",
      "2018-05-17 18:16:58.154646-06:00\n",
      "2018-05-16 18:05:42.917271-06:00\n",
      "2018-05-17 18:04:03.712176-06:00\n",
      "2018-05-17 18:08:38.468602-06:00\n"
     ]
    }
   ],
   "source": [
    "for target in targets:\n",
    "    if observing_table['ever observable'][i]:\n",
    "        \n",
    "        rise_time = apo.target_rise_time(reference_time, target, which='nearest')\n",
    "    \n",
    "        #set_time = apo.target_set_time(target)\n",
    "    \n",
    "        # flux it\n",
    "        spluh = rise_time.to_datetime(tz_1)\n",
    "    \n",
    "        print(spluh)"
   ]
  },
  {
   "cell_type": "code",
   "execution_count": 110,
   "metadata": {},
   "outputs": [
    {
     "name": "stdout",
     "output_type": "stream",
     "text": [
      "2018-05-17 06:32:38.090204-06:00\n",
      "2018-05-17 06:33:08.893457-06:00\n",
      "2018-05-17 06:33:10.962003-06:00\n",
      "2018-05-17 06:34:13.202784-06:00\n",
      "2018-05-17 06:35:10.575195-06:00\n",
      "2018-05-17 06:37:08.788555-06:00\n",
      "2018-05-17 06:37:30.213222-06:00\n",
      "2018-05-17 06:37:20.445703-06:00\n",
      "2018-05-17 06:38:24.970439-06:00\n",
      "2018-05-17 06:38:11.725007-06:00\n",
      "2018-05-17 07:13:50.200030-06:00\n",
      "2018-05-17 07:13:23.178088-06:00\n",
      "2018-05-17 07:16:30.409340-06:00\n",
      "2018-05-17 07:14:53.116486-06:00\n",
      "2018-05-17 07:11:16.835985-06:00\n",
      "2018-05-17 07:05:12.157457-06:00\n",
      "2018-05-17 06:46:42.453437-06:00\n",
      "2018-05-17 06:42:48.719360-06:00\n",
      "2018-05-17 06:33:55.785900-06:00\n",
      "2018-05-17 06:32:01.430093-06:00\n",
      "2018-05-17 06:31:53.593765-06:00\n",
      "2018-05-17 06:28:59.103261-06:00\n",
      "2018-05-17 06:28:17.572446-06:00\n",
      "2018-05-17 06:13:24.632691-06:00\n",
      "2018-05-17 06:16:06.504474-06:00\n",
      "2018-05-17 06:09:04.446453-06:00\n"
     ]
    }
   ],
   "source": [
    "for target in targets:\n",
    "        \n",
    "    if observing_table['ever observable'][i]:\n",
    "        \n",
    "        set_time = apo.target_set_time(reference_time, target, which='nearest')\n",
    "    \n",
    "        #set_time = apo.target_set_time(target)\n",
    "    \n",
    "        # flux it\n",
    "        spleh = set_time.to_datetime(tz_1)\n",
    "    \n",
    "        print(spleh)"
   ]
  },
  {
   "cell_type": "code",
   "execution_count": null,
   "metadata": {},
   "outputs": [],
   "source": []
  }
 ],
 "metadata": {
  "kernelspec": {
   "display_name": "Python 3",
   "language": "python",
   "name": "python3"
  },
  "language_info": {
   "codemirror_mode": {
    "name": "ipython",
    "version": 3
   },
   "file_extension": ".py",
   "mimetype": "text/x-python",
   "name": "python",
   "nbconvert_exporter": "python",
   "pygments_lexer": "ipython3",
   "version": "3.6.4"
  }
 },
 "nbformat": 4,
 "nbformat_minor": 2
}
